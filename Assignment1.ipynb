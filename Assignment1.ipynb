{
  "nbformat": 4,
  "nbformat_minor": 0,
  "metadata": {
    "colab": {
      "provenance": [],
      "include_colab_link": true
    },
    "kernelspec": {
      "name": "python3",
      "display_name": "Python 3"
    },
    "language_info": {
      "name": "python"
    }
  },
  "cells": [
    {
      "cell_type": "markdown",
      "metadata": {
        "id": "view-in-github",
        "colab_type": "text"
      },
      "source": [
        "<a href=\"https://colab.research.google.com/github/siddheshsp0/WiDS-Projects/blob/main/Assignment1.ipynb\" target=\"_parent\"><img src=\"https://colab.research.google.com/assets/colab-badge.svg\" alt=\"Open In Colab\"/></a>"
      ]
    },
    {
      "cell_type": "markdown",
      "source": [
        "# Assignment 1a - **Linear Regression from Scratch**\n",
        "---"
      ],
      "metadata": {
        "id": "zy99f2mPOOBb"
      }
    },
    {
      "cell_type": "markdown",
      "source": [
        "## Objective:\n",
        "The main goal of this assignment is to empower you to comprehend the fundamental steps involved in creating a linear regression model from scratch. By doing so, you'll gain insights into the mechanics of linear regression, including data generation, model creation, training, evaluation, and prediction.\n",
        "\n",
        "> **NOTE :** You are required to write code only where it is specified by comments. There will be comments in each cell block to guide you, and if there is no comment for a particular cell, no modifications are required for it, simply run that cell.\n",
        "\n",
        "## Task 1: **Setting Up**\n",
        "**Purpose:** Importing essential libraries forms the foundation of any data-related task. For this assignment, you must include `numpy`, `sklearn.datasets`, `sklearn.model_selection`, and `matplotlib.pyplot` for numerical computation, dataset generation, data splitting, and visualization, respectively.\n",
        "\n",
        "## Task 2: **Dataset Generation**\n",
        "**Purpose:** Generating a synthetic dataset mimics real-world scenarios where data might not be readily available. By using `make_regression` from `sklearn.datasets`, you will create a dataset with 100 samples, one feature, and a noise level of 10. Setting the random state to 42 ensures reproducibility.\n",
        "\n",
        "## Task 3: **Exploratory Data Analysis (EDA)**\n",
        "**Purpose:** EDA is crucial for understanding data characteristics. You should visualize the generated dataset using a scatter plot. This visualization helps grasp the relationship between the independent and dependent variables, enabling a better understanding of the data's distribution and patterns.\n",
        "\n",
        "## Task 4: **Data Splitting**\n",
        "**Purpose:** Splitting the dataset into training and testing subsets ensures unbiased model evaluation. Using `train_test_split` from `sklearn.model_selection`, you will create an 80-20 split ratio for training and testing, respectively. Setting a random state guarantees consistent splitting.\n",
        "\n",
        "## Task 5: **Implementing Linear Regression**\n",
        "**Purpose:** Creating a basic Linear Regression class from scratch solidifies the understanding of the algorithm's inner workings. You need to define methods for model initialization, fitting, prediction, and mean squared error (MSE) calculation. This step emphasizes the core functionality of a linear regression model.\n",
        "\n",
        "## Task 6: **Model Training**\n",
        "**Purpose:** Training the linear regression model involves updating its parameters iteratively to minimize the cost function (MSE). You will execute the model training on the training data by utilizing a learning rate of 0.01 and iterating through 1000 epochs.\n",
        "\n",
        "## Task 7: **Model Evaluation**\n",
        "**Purpose:** Evaluating the model's performance on separate training and testing sets is crucial for assessing its generalization ability. You will compute the Mean Squared Error (MSE) for both the training and testing sets, providing insights into the model's accuracy.\n",
        "\n",
        "## Task 8: **Visualize Predictions**\n",
        "**Purpose:** Visualizing the model's predictions helps comprehend its performance. You will plot the actual test data points alongside the predicted values obtained from the trained model. This visualization aids in understanding how well the model fits the test data."
      ],
      "metadata": {
        "id": "KBsvmiJxOOBi"
      }
    },
    {
      "cell_type": "markdown",
      "source": [
        "## Task 1: **Setting Up**"
      ],
      "metadata": {
        "id": "hVpwAjcKOOBi"
      }
    },
    {
      "cell_type": "code",
      "source": [
        "# Import NumPy and Matplotlib.PyPlot here\n",
        "import numpy as np\n",
        "import matplotlib.pyplot as plt\n",
        "\n",
        "from sklearn.datasets import make_regression\n",
        "from sklearn.model_selection import train_test_split"
      ],
      "metadata": {
        "id": "JvFadyRpOOBi"
      },
      "execution_count": 1,
      "outputs": []
    },
    {
      "cell_type": "markdown",
      "source": [
        "## Task 2: **Dataset Generation**"
      ],
      "metadata": {
        "id": "Rq3PUDpzOOBi"
      }
    },
    {
      "cell_type": "code",
      "source": [
        "X, y = make_regression(n_samples=100, n_features=1, noise=10, random_state=42)"
      ],
      "metadata": {
        "id": "z5KLvt7KOOBi"
      },
      "execution_count": 2,
      "outputs": []
    },
    {
      "cell_type": "code",
      "source": [
        "# Print X and y to get an idea of the dataset we generated\n",
        "X"
      ],
      "metadata": {
        "id": "04tDhh1jOOBj"
      },
      "execution_count": null,
      "outputs": []
    },
    {
      "cell_type": "code",
      "source": [
        "y.head()"
      ],
      "metadata": {
        "id": "-vE7MOaztNVQ",
        "outputId": "6f54cdbd-0719-411f-d718-af19310d7ba3",
        "colab": {
          "base_uri": "https://localhost:8080/",
          "height": 141
        }
      },
      "execution_count": 4,
      "outputs": [
        {
          "output_type": "error",
          "ename": "AttributeError",
          "evalue": "'numpy.ndarray' object has no attribute 'head'",
          "traceback": [
            "\u001b[0;31m---------------------------------------------------------------------------\u001b[0m",
            "\u001b[0;31mAttributeError\u001b[0m                            Traceback (most recent call last)",
            "\u001b[0;32m<ipython-input-4-17b2b1f6e15b>\u001b[0m in \u001b[0;36m<cell line: 0>\u001b[0;34m()\u001b[0m\n\u001b[0;32m----> 1\u001b[0;31m \u001b[0my\u001b[0m\u001b[0;34m.\u001b[0m\u001b[0mhead\u001b[0m\u001b[0;34m(\u001b[0m\u001b[0;34m)\u001b[0m\u001b[0;34m\u001b[0m\u001b[0;34m\u001b[0m\u001b[0m\n\u001b[0m",
            "\u001b[0;31mAttributeError\u001b[0m: 'numpy.ndarray' object has no attribute 'head'"
          ]
        }
      ]
    },
    {
      "cell_type": "code",
      "source": [
        "y"
      ],
      "metadata": {
        "id": "8KRphAcNtQ4D",
        "outputId": "42678541-019c-40b5-8ffa-74f3f1fa3a38",
        "colab": {
          "base_uri": "https://localhost:8080/"
        }
      },
      "execution_count": 5,
      "outputs": [
        {
          "output_type": "execute_result",
          "data": {
            "text/plain": [
              "array([  50.77992943,  -10.06527016,  -34.91839191,   10.52674299,\n",
              "        -17.73837724,   31.56459551,  -30.06888275,    5.91200699,\n",
              "         23.47337416,   32.34359474,   35.76573341,   76.88323383,\n",
              "         36.18776792,    2.9244734 ,  -47.81146525,   12.61693126,\n",
              "        -85.45418019,   20.05162924,   28.63464002, -118.02745409,\n",
              "         16.77823077,    2.81079984,  -29.36593416,   28.57973536,\n",
              "         74.71530364,   64.57600193,  -11.01926675,    2.74944415,\n",
              "        -33.92230425,  -62.09952962,   20.28587171,   29.52220586,\n",
              "          5.76708113,  -21.69297316,  -43.6490161 ,   -4.01153077,\n",
              "        -20.19870331,    7.58329135,   51.39997923,    1.74763946,\n",
              "         22.78482382,  -31.5003787 ,   61.91233294,  -20.69551487,\n",
              "         -7.6244312 ,   -5.91131407,  -14.17777333,  -38.23228892,\n",
              "         23.49423306,    8.80963973,   -5.90648058,    7.31453371,\n",
              "        -29.99628354,   89.03314517,    9.31786907,   24.7816116 ,\n",
              "         20.00370858,    0.72440436,   -8.86713635,  -85.35925853,\n",
              "         27.16648672,   -9.49795271,  -44.43130901,  -33.82909094,\n",
              "        -64.51014139,   47.8357159 ,  -78.59179131,  -84.18851543,\n",
              "        -23.43112712,   46.0731574 ,   44.40919578,  -63.16609268,\n",
              "        -65.59777871,  -42.22346311,  -22.03589468,   56.48751247,\n",
              "         52.89103498,   11.12324828,    3.09992   ,  -30.47649497,\n",
              "        -68.32675437,   12.3614395 ,   -1.9938087 ,  -48.94907978,\n",
              "         49.68666288,    1.3781956 ,  -19.78188548,   -5.49771383,\n",
              "        -37.4991444 ,   -8.66267263,  -56.06201681,   69.8620077 ,\n",
              "         10.49166995,  -21.28918765,  -22.79501941,   78.085079  ,\n",
              "        -70.96848274,  -38.90221305,    4.33922894,  -21.57832636])"
            ]
          },
          "metadata": {},
          "execution_count": 5
        }
      ]
    },
    {
      "cell_type": "markdown",
      "source": [
        "## Task 3: **Exploratory Data Analysis (EDA)**"
      ],
      "metadata": {
        "id": "e4KtteGhOOBj"
      }
    },
    {
      "cell_type": "code",
      "source": [
        "plt.scatter(X, y)\n",
        "plt.xlabel('X')\n",
        "plt.ylabel('y')\n",
        "plt.title('Generated Data')\n",
        "plt.show()"
      ],
      "metadata": {
        "id": "hSrx3FoHOOBj",
        "outputId": "6f6464a5-1599-40c5-9406-e87a22727180",
        "colab": {
          "base_uri": "https://localhost:8080/",
          "height": 472
        }
      },
      "execution_count": 6,
      "outputs": [
        {
          "output_type": "display_data",
          "data": {
            "text/plain": [
              "<Figure size 640x480 with 1 Axes>"
            ],
            "image/png": "[encoded data removed]"
          },
          "metadata": {}
        }
      ]
    },
    {
      "cell_type": "markdown",
      "source": [
        "## Task 4: **Data Splitting**"
      ],
      "metadata": {
        "id": "9i8rYqmsOOBj"
      }
    },
    {
      "cell_type": "code",
      "source": [
        "X_train, X_test, y_train, y_test = train_test_split(X, y, test_size=0.2, random_state=42)"
      ],
      "metadata": {
        "id": "e2Bf7SKjOOBj"
      },
      "execution_count": 7,
      "outputs": []
    },
    {
      "cell_type": "code",
      "source": [
        "# Verify the sizes of training and testing samples by using print statements\n",
        "type(X_train)\n",
        "print(X_train.shape)\n",
        "print(X_test.shape)"
      ],
      "metadata": {
        "id": "u7OMQuNWOOBj",
        "outputId": "f53ee6c0-68e1-494b-88db-05ff27e07be0",
        "colab": {
          "base_uri": "https://localhost:8080/"
        }
      },
      "execution_count": 11,
      "outputs": [
        {
          "output_type": "stream",
          "name": "stdout",
          "text": [
            "(80, 1)\n",
            "(20, 1)\n"
          ]
        }
      ]
    },
    {
      "cell_type": "markdown",
      "source": [
        "## Task 5: **Implementing Linear Regression**"
      ],
      "metadata": {
        "id": "LVVqCPOuOOBj"
      }
    },
    {
      "cell_type": "code",
      "source": [
        "# Nothing to modify in this cell\n",
        "class MyLinearRegression:\n",
        "    def __init__(self, lr=0.01, epochs=100):\n",
        "        self.lr = lr\n",
        "        self.epochs = epochs\n",
        "        self.weights = None\n",
        "        self.bias = None\n",
        "\n",
        "    def fit(self, X, y):\n",
        "        n_samples, n_features = X.shape\n",
        "        self.weights = np.zeros(n_features)\n",
        "        self.bias = 0\n",
        "\n",
        "        for _ in range(self.epochs):\n",
        "            y_predicted = np.dot(X, self.weights) + self.bias\n",
        "\n",
        "            # Computing gradients\n",
        "            dw = (1 / n_samples) * np.dot(X.T, (y_predicted - y))\n",
        "            db = (1 / n_samples) * np.sum(y_predicted - y)\n",
        "\n",
        "            # Updating weights and bias\n",
        "            self.weights -= self.lr * dw\n",
        "            self.bias -= self.lr * db\n",
        "\n",
        "    def predict(self, X):\n",
        "        return np.dot(X, self.weights) + self.bias\n",
        "\n",
        "    def mse(self, y_true, y_pred):\n",
        "        return np.mean((y_true - y_pred) ** 2)"
      ],
      "metadata": {
        "id": "LCivRsPjOOBj"
      },
      "execution_count": 12,
      "outputs": []
    },
    {
      "cell_type": "markdown",
      "source": [
        "## Task 6: **Model Training**"
      ],
      "metadata": {
        "id": "8Oo8oe4dOOBk"
      }
    },
    {
      "cell_type": "code",
      "source": [
        "# Define the model and train it using learning rate = 0.01 and on 1000 epochs\n",
        "lr_model = MyLinearRegression(lr=0.01, epochs=1000)\n",
        "lr_model.fit(X_train, y_train)"
      ],
      "metadata": {
        "id": "qHkCgE_6OOBk"
      },
      "execution_count": 13,
      "outputs": []
    },
    {
      "cell_type": "markdown",
      "source": [
        "## Task 7: **Model Evaluation**"
      ],
      "metadata": {
        "id": "O0wbynk6OOBk"
      }
    },
    {
      "cell_type": "code",
      "source": [
        "# Use the predict and mse functions of MyLinearRegression class here: (train_mse has been done for you)\n",
        "\n",
        "train_predictions = lr_model.predict(X_train)\n",
        "test_predictions = lr_model.predict(X_test)\n",
        "\n",
        "train_mse = lr_model.mse(y_train, train_predictions)\n",
        "test_mse =lr_model.mse(y_test, test_predictions)\n",
        "\n",
        "print(f\"Train MSE: {train_mse:.2f}\")\n",
        "print(f\"Test MSE: {test_mse:.2f}\")"
      ],
      "metadata": {
        "id": "Ch65XbEeOOBk",
        "outputId": "a81167c5-e694-4709-80a6-fc46ff6bae23",
        "colab": {
          "base_uri": "https://localhost:8080/"
        }
      },
      "execution_count": 15,
      "outputs": [
        {
          "output_type": "stream",
          "name": "stdout",
          "text": [
            "Train MSE: 72.92\n",
            "Test MSE: 104.30\n"
          ]
        }
      ]
    },
    {
      "cell_type": "markdown",
      "source": [
        "## Task 8: **Visualize Predictions**"
      ],
      "metadata": {
        "id": "sVJMxp3oOOBk"
      }
    },
    {
      "cell_type": "code",
      "execution_count": 16,
      "metadata": {
        "id": "x-kLq_19OOBk",
        "outputId": "bb02ac0a-5281-428b-c873-f7f18081294b",
        "colab": {
          "base_uri": "https://localhost:8080/",
          "height": 472
        }
      },
      "outputs": [
        {
          "output_type": "display_data",
          "data": {
            "text/plain": [
              "<Figure size 640x480 with 1 Axes>"
            ],
            "image/png": "[encoded data removed]"
          },
          "metadata": {}
        }
      ],
      "source": [
        "plt.scatter(X_test, y_test, label='Actual')\n",
        "plt.plot(X_test, test_predictions, color='red', label='Predicted')\n",
        "plt.xlabel('X')\n",
        "plt.ylabel('y')\n",
        "plt.title('Test Set Predictions')\n",
        "plt.legend()\n",
        "plt.show()\n"
      ]
    },
    {
      "cell_type": "markdown",
      "source": [
        "# Assignment 1b: **Logistic Regression from Scratch**\n",
        "---"
      ],
      "metadata": {
        "id": "LHB9RY4FVDSN"
      }
    },
    {
      "cell_type": "markdown",
      "source": [
        "## Objective:\n",
        "Similar to the Linear Regression task, the aim here is to delve into the core workings of Logistic Regression. The steps include importing necessary libraries, generating a synthetic dataset, performing exploratory data analysis (EDA), splitting the dataset, implementing Logistic Regression from scratch, training the model, evaluating its performance, and visualizing predictions.\n",
        "\n",
        "> **NOTE :** You are required to write code only where it is specified by comments. There will be comments in each cell block to guide you, and if there is no comment for a particular cell, no modifications are required for it, simply run that cell.\n",
        "\n",
        "## Task 1: **Setting Up**\n",
        "**Purpose:** Import `numpy`, `sklearn.datasets`, `sklearn.model_selection`, and `matplotlib.pyplot` for numerical computation, dataset generation, data splitting, and visualization.\n",
        "\n",
        "## Task 2: **Dataset Generation**\n",
        "**Purpose:** Generate a synthetic dataset using `make_classification` from `sklearn.datasets` with 100 samples, two informative features, one redundant feature, and a noise level of 10. Setting the random state to 42 ensures reproducibility.\n",
        "\n",
        "## Task 3: **Exploratory Data Analysis (EDA)**\n",
        "**Purpose:** Visualize the generated dataset using a scatter plot. This aids in understanding the relationship between the features and their classes.\n",
        "\n",
        "## Task 4: **Data Splitting**\n",
        "**Purpose:** Split the dataset into training and testing subsets using `train_test_split` from `sklearn.model_selection` with an 80-20 split ratio. Set a random state for consistency.\n",
        "\n",
        "## Task 5: **Implementing Logistic Regression**\n",
        "**Purpose:** Create a Logistic Regression class from scratch with methods for model initialization, fitting, prediction, and computing the cross-entropy loss.\n",
        "\n",
        "## Task 6: **Model Training**\n",
        "**Purpose:** Train the Logistic Regression model on the training data by iteratively updating its parameters. Use a learning rate of 0.01 and iterate through 1000 epochs.\n",
        "\n",
        "## Task 7: **Model Evaluation**\n",
        "**Purpose:** Evaluate the model's performance on both the training and testing sets by computing the accuracy.\n",
        "\n",
        "## Task 8: **Visualize Predictions**\n",
        "**Purpose:** Visualize the model's predictions by plotting the actual test data points alongside the predicted values obtained from the trained model."
      ],
      "metadata": {
        "id": "KiNl9RcvTdz8"
      }
    },
    {
      "cell_type": "markdown",
      "source": [
        "## Task 1: **Setting Up**"
      ],
      "metadata": {
        "id": "X1p1--B7UUlm"
      }
    },
    {
      "cell_type": "code",
      "source": [
        "# Import NumPy and Matplotlib.PyPlot here\n",
        "import numpy as np\n",
        "import matplotlib.pyplot as plt\n",
        "\n",
        "from sklearn.datasets import make_classification\n",
        "from sklearn.model_selection import train_test_split"
      ],
      "metadata": {
        "id": "kRArZttGUUlu"
      },
      "execution_count": 17,
      "outputs": []
    },
    {
      "cell_type": "markdown",
      "source": [
        "## Task 2: **Dataset Generation**"
      ],
      "metadata": {
        "id": "Q7feHM5eUUlu"
      }
    },
    {
      "cell_type": "code",
      "source": [
        "# We are dealing with the simple case of a single feature\n",
        "X, y = make_classification(n_samples=1000, n_features=1, n_informative=1, n_redundant=0, n_repeated=0, n_classes=2, n_clusters_per_class=1, random_state=42)"
      ],
      "metadata": {
        "id": "rcLXCg7eUUlu"
      },
      "execution_count": 18,
      "outputs": []
    },
    {
      "cell_type": "code",
      "source": [
        "# Print X and y to get an idea of the dataset we generated\n",
        "print(X)\n",
        "print(y)"
      ],
      "metadata": {
        "id": "oBOBoddeUUlu"
      },
      "execution_count": null,
      "outputs": []
    },
    {
      "cell_type": "markdown",
      "source": [
        "## Task 3: **Exploratory Data Analysis (EDA)**"
      ],
      "metadata": {
        "id": "aWiqw8LZUUlu"
      }
    },
    {
      "cell_type": "code",
      "source": [
        "plt.scatter(X[:, 0], y, c=y, cmap='plasma')\n",
        "plt.xlabel('X1')\n",
        "plt.title('Generated Data: Distribution of X1')\n",
        "plt.colorbar(label='Class')\n",
        "plt.show()"
      ],
      "metadata": {
        "id": "ec4wbagIUUlu",
        "outputId": "21db7ef8-638a-4736-fb61-7121ad3807ea",
        "colab": {
          "base_uri": "https://localhost:8080/",
          "height": 472
        }
      },
      "execution_count": 21,
      "outputs": [
        {
          "output_type": "display_data",
          "data": {
            "text/plain": [
              "<Figure size 640x480 with 2 Axes>"
            ],
            "image/png": "[encoded data removed]"
          },
          "metadata": {}
        }
      ]
    },
    {
      "cell_type": "markdown",
      "source": [
        "## Task 4: **Data Splitting**"
      ],
      "metadata": {
        "id": "WR1lHQ0PUUlu"
      }
    },
    {
      "cell_type": "code",
      "source": [
        "X_train, X_test, y_train, y_test = train_test_split(X, y, test_size=0.2, random_state=42)"
      ],
      "metadata": {
        "id": "SUm7OSK9UUlu"
      },
      "execution_count": 22,
      "outputs": []
    },
    {
      "cell_type": "code",
      "source": [
        "# Verify the sizes of training and testing samples by using print statements\n",
        "print(X_train.shape)\n",
        "print(X_test.shape)"
      ],
      "metadata": {
        "id": "guQSFAq7UUlv",
        "outputId": "4e205faf-e51b-4908-c32c-bb66ecf09151",
        "colab": {
          "base_uri": "https://localhost:8080/"
        }
      },
      "execution_count": 23,
      "outputs": [
        {
          "output_type": "stream",
          "name": "stdout",
          "text": [
            "(800, 1)\n",
            "(200, 1)\n"
          ]
        }
      ]
    },
    {
      "cell_type": "markdown",
      "source": [
        "## Task 5: **Implementing Logistic Regression**"
      ],
      "metadata": {
        "id": "7zrFyqQXUUlv"
      }
    },
    {
      "cell_type": "code",
      "source": [
        "class MyLogisticRegression:\n",
        "    def __init__(self, lr=0.01, epochs=100):\n",
        "        self.lr = lr\n",
        "        self.epochs = epochs\n",
        "        self.weights = None\n",
        "        self.bias = None\n",
        "\n",
        "    def fit(self, X, y):\n",
        "        n_samples, n_features = X.shape\n",
        "        self.weights = np.zeros(n_features)\n",
        "        self.bias = 0\n",
        "\n",
        "        for _ in range(self.epochs):\n",
        "            linear_model = np.dot(X, self.weights) + self.bias\n",
        "            y_predicted = self._sigmoid(linear_model)\n",
        "\n",
        "            dw = (1 / n_samples) * np.dot(X.T, (y_predicted - y))\n",
        "            db = (1 / n_samples) * np.sum(y_predicted - y)\n",
        "\n",
        "            self.weights -= self.lr * dw\n",
        "            self.bias -= self.lr * db\n",
        "\n",
        "    def _sigmoid(self, x):\n",
        "        return 1 / (1 + np.exp(-x))\n",
        "\n",
        "    def predict(self, X):\n",
        "        linear_model = np.dot(X, self.weights) + self.bias\n",
        "        y_predicted = self._sigmoid(linear_model)\n",
        "        return [1 if i > 0.5 else 0 for i in y_predicted]\n",
        "\n",
        "    def accuracy(self, y_true, y_pred):\n",
        "        accuracy = np.sum(y_true == y_pred) / len(y_true)\n",
        "        return accuracy"
      ],
      "metadata": {
        "id": "00tWikjMUUlv"
      },
      "execution_count": 24,
      "outputs": []
    },
    {
      "cell_type": "markdown",
      "source": [
        "## Task 6: **Model Training**"
      ],
      "metadata": {
        "id": "zUMZ4L7sUUlv"
      }
    },
    {
      "cell_type": "code",
      "source": [
        "# Define the model and train it using learning rate = 0.01 and on 1000 epochs\n",
        "lr_model = MyLogisticRegression(lr=0.01, epochs=1000)\n",
        "lr_model.fit(X_train, y_train)"
      ],
      "metadata": {
        "id": "jeGNW9QbUUlv"
      },
      "execution_count": 25,
      "outputs": []
    },
    {
      "cell_type": "markdown",
      "source": [
        "## Task 7: **Model Evaluation**"
      ],
      "metadata": {
        "id": "7aJJTiVeUUlv"
      }
    },
    {
      "cell_type": "code",
      "source": [
        "# Use the predict and mse functions of MyLinearRegression class here: (test_mse has been done for you)\n",
        "\n",
        "train_predictions = lr_model.predict(X_train)\n",
        "test_predictions = lr_model.predict(X_test)\n",
        "\n",
        "train_accuracy = lr_model.accuracy(y_train, train_predictions)\n",
        "test_accuracy = lr_model.accuracy(y_test, test_predictions)\n",
        "\n",
        "print(f\"Train Accuracy: {100*train_accuracy:.2f} %\")\n",
        "print(f\"Test Accuracy: {100*test_accuracy:.2f} %\")"
      ],
      "metadata": {
        "id": "7K3i01QFUUlv",
        "outputId": "46a886d3-7a5a-4ef7-99ad-7b10f4213029",
        "colab": {
          "base_uri": "https://localhost:8080/"
        }
      },
      "execution_count": 26,
      "outputs": [
        {
          "output_type": "stream",
          "name": "stdout",
          "text": [
            "Train Accuracy: 92.00 %\n",
            "Test Accuracy: 92.00 %\n"
          ]
        }
      ]
    },
    {
      "cell_type": "markdown",
      "source": [
        "## Task 8: **Visualize Predictions**"
      ],
      "metadata": {
        "id": "qTEr7kG9UUlv"
      }
    },
    {
      "cell_type": "code",
      "source": [
        "# Make sure lr_model is the trained logistic regression model\n",
        "\n",
        "# Create a range of values for X1 feature\n",
        "x1_values = np.linspace(np.min(X[:, 0]), np.max(X[:, 0]), 100)\n",
        "\n",
        "# Calculate corresponding probabilities using the trained model's sigmoid function\n",
        "x1_probabilities = lr_model._sigmoid(lr_model.weights[0] * x1_values + lr_model.bias)\n",
        "\n",
        "plt.scatter(X[:, 0], y, c=y, label='Actual', cmap='plasma')\n",
        "plt.plot(x1_values, x1_probabilities, color='red', label='Sigmoid Function')\n",
        "plt.xlabel('X1')\n",
        "plt.ylabel('y')\n",
        "plt.title('X1 vs y with Predicted Sigmoid Function')\n",
        "plt.legend()\n",
        "plt.colorbar(label='Class')\n",
        "plt.show()"
      ],
      "metadata": {
        "id": "UcZp1bzoTwHH",
        "outputId": "28764460-b663-4c9e-d9fb-e0fa6f6ddc5a",
        "colab": {
          "base_uri": "https://localhost:8080/",
          "height": 472
        }
      },
      "execution_count": 27,
      "outputs": [
        {
          "output_type": "display_data",
          "data": {
            "text/plain": [
              "<Figure size 640x480 with 2 Axes>"
            ],
            "image/png": "[encoded data removed]"
          },
          "metadata": {}
        }
      ]
    },
    {
      "cell_type": "code",
      "source": [],
      "metadata": {
        "id": "9JXUagEE3GGG"
      },
      "execution_count": null,
      "outputs": []
    }
  ]
}